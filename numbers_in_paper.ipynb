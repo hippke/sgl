{
 "cells": [
  {
   "cell_type": "code",
   "execution_count": 1,
   "metadata": {},
   "outputs": [
    {
     "name": "stderr",
     "output_type": "stream",
     "text": "WARNING: AstropyDeprecationWarning: astropy.extern.six will be removed in 4.0, use the six module directly if it is still needed [astropy.extern.six]\n"
    }
   ],
   "source": [
    "import numpy as np\n",
    "from astroquery.simbad import Simbad\n",
    "from astroquery.vizier import Vizier\n",
    "from astropy.coordinates import SkyCoord\n",
    "from astropy.time import Time\n",
    "from astropy.coordinates import EarthLocation, get_body\n",
    "from astropy import units as u\n",
    "from sgl_lib import sgl_position, sgl_position_scatter"
   ]
  },
  {
   "cell_type": "markdown",
   "metadata": {},
   "source": [
    "Define object of interest and planned observation time from Earth"
   ]
  },
  {
   "cell_type": "code",
   "execution_count": 2,
   "metadata": {},
   "outputs": [],
   "source": [
    "object_name = 'Tau Ceti'   # Tau Ceti\n",
    "observation_time = 2020.2 * u.year # UTC time of planned observation from Earth"
   ]
  },
  {
   "cell_type": "markdown",
   "metadata": {},
   "source": [
    "Use object name to pull the Gaia DR2 identifier from Vizier"
   ]
  },
  {
   "cell_type": "code",
   "execution_count": 3,
   "metadata": {},
   "outputs": [
    {
     "name": "stdout",
     "output_type": "stream",
     "text": "Gaia ID: 2452378776434276992\n"
    }
   ],
   "source": [
    "result = str(Simbad.query_objectids(object_name))\n",
    "position = result.find('Gaia DR2 ') + 9\n",
    "gaia_ID = result[position:position+19]\n",
    "print('Gaia ID:', gaia_ID)"
   ]
  },
  {
   "cell_type": "markdown",
   "metadata": {},
   "source": [
    "With this Gaia ID we pull the catalog data of object position, parallax, and proper motion"
   ]
  },
  {
   "cell_type": "code",
   "execution_count": 4,
   "metadata": {},
   "outputs": [
    {
     "name": "stdout",
     "output_type": "stream",
     "text": "RA 26.00930287667 deg +- 0.4122 arcsec\nDE -15.93379865094 deg +- 0.3505 arcsec\nPlx (as) 0.27751620000000005 arcsec +- 0.000517300009727478 arcsec\nProper motion in RA (as/yr) -1.729726 arcsec / yr +- 0.001312999963760376 arcsec / yr\nProper motion in DE (as/yr) 0.8554930000000001 arcsec / yr +- 0.0007829999923706054 arcsec / yr\nDistance (pc) 3.6033932433493967 pc +- 0.006729396253566833 pc\n"
    }
   ],
   "source": [
    "result = Vizier().query_constraints(Source=gaia_ID, catalog=\"I/345/gaia2\")[0][:][0]\n",
    "RA     = result['RA_ICRS']   * u.degree      # Position in RA, epoch 2015.5\n",
    "e_RA   = result['e_RA_ICRS'] * u.arcsec      # Uncertainty in the position in RA\n",
    "DE     = result['DE_ICRS']   * u.degree      # Position in DE, epoch 2015.5\n",
    "e_DE   = result['e_DE_ICRS'] * u.arcsec      # Uncertainty in the position in DE\n",
    "Plx    = result['Plx']    / 1000 * u.arcsec  # Parallax (as)\n",
    "e_Plx  = result['e_Plx']  / 1000 * u.arcsec  # Uncertainty in the parallax (as)\n",
    "\n",
    "pmRA   = result['pmRA']   / 1000 * u.arcsec / u.year  # proper motion in RA (as/yr)\n",
    "e_pmRA = result['e_pmRA'] / 1000 * u.arcsec / u.year  # proper motion in DE (as/yr)\n",
    "pmDE   = result['pmDE']   / 1000 * u.arcsec / u.year  # Uncertainty in the proper motion in RA (as/yr)\n",
    "e_pmDE = result['e_pmDE'] / 1000 * u.arcsec / u.year  # Uncertainty in the proper motion in DE (as/yr)\n",
    "\n",
    "# Derived values\n",
    "epoch = 2015.5 * u.year  # Gaia epoch J2015.5 for DR2\n",
    "distance = Plx.to(u.parsec, equivalencies=u.parallax())\n",
    "distance_uncertainty = - distance + (Plx - e_Plx).to(u.parsec, equivalencies=u.parallax())\n",
    "\n",
    "print('RA', RA, '+-', e_RA)\n",
    "print('DE', DE, '+-', e_DE)\n",
    "print('Plx (as)', Plx, '+-', e_Plx)\n",
    "print('Proper motion in RA (as/yr)', pmRA, '+-', e_pmRA)\n",
    "print('Proper motion in DE (as/yr)', pmDE, '+-', e_pmDE)\n",
    "print('Distance (pc)', distance, '+-', distance_uncertainty)"
   ]
  },
  {
   "cell_type": "markdown",
   "execution_count": null,
   "metadata": {},
   "outputs": [],
   "source": [
    "Tau Ceti position at observation epoch"
   ]
  },
  {
   "cell_type": "code",
   "execution_count": 19,
   "metadata": {},
   "outputs": [
    {
     "name": "stdout",
     "output_type": "stream",
     "text": "Time gap 4.7000000000000455 yr\nError in position at 2020.2 (RA, DEC) 26.009419090864395 deg 26.0094012600311 deg\nltt 0.01581250740982066 yr\nsun  xyz 0.9710382735608333 AU -0.18896080062523246 AU -0.08191188756022487 AU\nstar xyz 3.114029044866842 pc 1.5194393849159522 pc -0.9892269352924127 pc\nstar xyz 642314.5975822574 AU 313406.87033144064 AU -204042.70214089978 AU\nlength_of_vector 3.6033894522383605 pc\nsgl -863.2220716901896 AU -421.8587029041097 AU 274.4447667532638 AU\n<SkyCoord (ICRS): (ra, dec, distance) in (deg, deg, pc)\n    (206.0448711, 15.94172312, 0.00484435)>\ndistance 999.2182145393938 AU\nerror 0d00m00.4187s\nerror -0d00m00.3545s\nSeparation after light travel time 0d00m18.8494s\n"
    }
   ],
   "source": [
    "time_gap = observation_time - epoch\n",
    "print('Time gap', time_gap)\n",
    "# Error in RA, DE\n",
    "error_ra = e_RA+e_pmRA*time_gap\n",
    "error_de = e_DE+e_pmDE*time_gap\n",
    "print('Error in position at 2020.2 (RA, DEC)', RA+error_ra, RA+error_de)\n",
    "\n",
    "pos_nominal = sgl_position(\n",
    "    RA=RA,\n",
    "    DE=DE,\n",
    "    distance=distance,\n",
    "    time=Time(observation_time.value, format='decimalyear'),\n",
    "    z=1000*u.au,  # heliocentric probe position on focal line\n",
    "    verbose=True\n",
    "    )\n",
    "print(pos_nominal)\n",
    "print('distance', pos_nominal.distance.to(u.au))\n",
    "\n",
    "pos_error = sgl_position(\n",
    "    RA=RA+error_ra,\n",
    "    DE=DE+error_de,\n",
    "    distance=distance,\n",
    "    time=Time(observation_time.value, format='decimalyear'),\n",
    "    z=1000*u.au,  # heliocentric probe position on focal line\n",
    "    )\n",
    "print('error', (pos_error.ra - pos_nominal.ra))\n",
    "print('error', (pos_error.dec - pos_nominal.dec))\n",
    "\n",
    "pos_after58d = sgl_position(\n",
    "    RA=RA,\n",
    "    DE=DE,\n",
    "    distance=distance,\n",
    "    time=Time(observation_time.value + 5.8/365, format='decimalyear'),\n",
    "    z=1000*u.au,  # heliocentric probe position on focal line\n",
    "    )\n",
    "\n",
    "print('Separation after light travel time', pos_nominal.separation(pos_after58d))\n"
   ]
  },
  {
   "cell_type": "code",
   "execution_count": 21,
   "metadata": {},
   "outputs": [
    {
     "name": "stdout",
     "output_type": "stream",
     "text": "11.752696877306187 yr\n<SkyCoord (ICRS): (ra, dec, distance) in (deg, deg, pc)\n    (206.05052317, 15.94451725, 0.00484435)>\n3D distance 0.10657148259297843 AU\n3D distance 15942866.873251686 km\n"
    }
   ],
   "source": [
    "# Light travel time to Tau Ceti\n",
    "ltt_tau_ceti = distance.to(u.lightyear).value * u.year\n",
    "print(ltt_tau_ceti)\n",
    "\n",
    "pos_transmitter = sgl_position(\n",
    "    RA=RA-pmRA*ltt_tau_ceti,\n",
    "    DE=DE-pmDE*ltt_tau_ceti,\n",
    "    distance=distance,\n",
    "    time=Time(observation_time.value, format='decimalyear'),\n",
    "    z=1000*u.au,  # heliocentric probe position on focal line\n",
    "    )\n",
    "print(pos_transmitter)\n",
    "print('3D distance', pos_nominal.separation_3d(pos_transmitter).to(u.au))\n",
    "print('3D distance', pos_nominal.separation_3d(pos_transmitter).to(u.km))"
   ]
  },
  {
   "cell_type": "code",
   "execution_count": null,
   "metadata": {},
   "outputs": [],
   "source": []
  }
 ],
 "metadata": {
  "kernelspec": {
   "display_name": "Python 3",
   "language": "python",
   "name": "python3"
  },
  "language_info": {
   "codemirror_mode": {
    "name": "ipython",
    "version": 3
   },
   "file_extension": ".py",
   "mimetype": "text/x-python",
   "name": "python",
   "nbconvert_exporter": "python",
   "pygments_lexer": "ipython3",
   "version": "3.7.2"
  }
 },
 "nbformat": 4,
 "nbformat_minor": 2
}